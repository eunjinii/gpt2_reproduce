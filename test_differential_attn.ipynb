{
 "cells": [
  {
   "cell_type": "code",
   "execution_count": 1,
   "metadata": {},
   "outputs": [],
   "source": [
    "import torch\n",
    "import torch.nn as nn\n",
    "import math\n",
    "import time\n",
    "from torch.nn import functional as F"
   ]
  },
  {
   "cell_type": "code",
   "execution_count": 2,
   "metadata": {},
   "outputs": [],
   "source": [
    "def lambda_init_fn(depth):\n",
    "    return 0.8 - 0.6 * math.exp(-0.3 * depth)\n",
    "\n",
    "class DifferentialFlashAttention(nn.Module):\n",
    "    def __init__(self, config, depth):\n",
    "        super().__init__()\n",
    "        assert config.n_embd % config.n_head == 0\n",
    "        self.n_head = config.n_head\n",
    "        self.n_embd = config.n_embd\n",
    "        self.head_dim = config.n_embd // config.n_head // 2 # head_dim splitted by two for dual-query mechanism\n",
    "        self.c_attn = nn.Linear(config.n_embd, 3 * config.n_embd, bias=False)\n",
    "        self.out_proj = nn.Linear(config.n_embd, config.n_embd, bias=False)\n",
    "        \n",
    "        self.lambda_init = lambda_init_fn(depth)\n",
    "        self.lambda_q1 = nn.Parameter(torch.zeros(self.head_dim, dtype=torch.float32).normal_(mean=0,std=0.1))\n",
    "        self.lambda_k1 = nn.Parameter(torch.zeros(self.head_dim, dtype=torch.float32).normal_(mean=0,std=0.1))\n",
    "        self.lambda_q2 = nn.Parameter(torch.zeros(self.head_dim, dtype=torch.float32).normal_(mean=0,std=0.1))\n",
    "        self.lambda_k2 = nn.Parameter(torch.zeros(self.head_dim, dtype=torch.float32).normal_(mean=0,std=0.1))\n",
    "        \n",
    "        self.rms_norm = nn.RMSNorm(2 * self.head_dim, eps=1e-5, elementwise_affine=True)\n",
    "\n",
    "    def forward(self, x):\n",
    "        start = time.time()\n",
    "        B, N, D = x.size()  # batch size, sequence length, embedding dimension\n",
    "        qkv = self.c_attn(x)  # combined query, key, value projection\n",
    "        q, k, v = qkv.split(self.n_embd, dim=2)\n",
    "        \n",
    "        q = q.view(B, N, 2 * self.n_head, self.head_dim) # torch.Size([B, N, 2H, d])\n",
    "        k = k.view(B, N, 2 * self.n_head, self.head_dim) # torch.Size([B, N, 2H, d])\n",
    "        v = v.view(B, N, self.n_head, 2 * self.head_dim) # torch.Size([B, N, H, 2d])\n",
    "        \n",
    "        # Split the last dimension into two components for dual-query mechanism\n",
    "        q = q.reshape(B, N, self.n_head, 2, self.head_dim)\n",
    "        k = k.reshape(B, N, self.n_head, 2, self.head_dim)\n",
    "        q1, q2 = q[:, :, :, 0], q[:, :, :, 1] # torch.Size([B, N, H, 2, d])\n",
    "        k1, k2 = k[:, :, :, 0], k[:, :, :, 1] # torch.Size([B, N, H, 2, d])\n",
    "        \n",
    "        att_weights1 = F.scaled_dot_product_attention(q1, k1, v) # torch.Size([B, N, H, 2d])\n",
    "        att_weights2 = F.scaled_dot_product_attention(q2, k2, v) # torch.Size([B, N, H, 2d])\n",
    "\n",
    "        lambda_1 = torch.exp(torch.sum(self.lambda_q1 * self.lambda_k1, dim=-1).float()).type_as(q)\n",
    "        lambda_2 = torch.exp(torch.sum(self.lambda_q2 * self.lambda_k2, dim=-1).float()).type_as(q)\n",
    "        lambda_full = lambda_1 - lambda_2 + self.lambda_init\n",
    "        y = att_weights1 - lambda_full * att_weights2\n",
    "        \n",
    "        y = self.rms_norm(y)\n",
    "        y = y * (1 - self.lambda_init)\n",
    "        y = y.reshape(B, N, self.n_head * 2 * self.head_dim)\n",
    "        y = self.out_proj(y) # torch.Size([B, N, D])\n",
    "        \n",
    "        end = time.time()\n",
    "        print(f\"Attention time: {1000*(end - start):.4f} ms\")\n",
    "        \n",
    "        att_weights, updated_kv_cache = None, None\n",
    "        \n",
    "        return y, att_weights, updated_kv_cache\n",
    "    "
   ]
  },
  {
   "cell_type": "code",
   "execution_count": 6,
   "metadata": {},
   "outputs": [
    {
     "name": "stdout",
     "output_type": "stream",
     "text": [
      "Attention time: 204.9649 ms\n"
     ]
    },
    {
     "data": {
      "text/plain": [
       "torch.Size([1, 32768, 768])"
      ]
     },
     "execution_count": 6,
     "metadata": {},
     "output_type": "execute_result"
    }
   ],
   "source": [
    "class Config:\n",
    "    n_embd = 768\n",
    "    n_head = 12\n",
    "\n",
    "config = Config()\n",
    "sequence_length = 32768\n",
    "hidden_dim = config.n_embd\n",
    "\n",
    "x = torch.randn(1, sequence_length, hidden_dim)\n",
    "attention_layer = DifferentialFlashAttention(config, depth=1)\n",
    "output = attention_layer(x)\n",
    "\n",
    "output[0].shape"
   ]
  },
  {
   "cell_type": "code",
   "execution_count": null,
   "metadata": {},
   "outputs": [],
   "source": []
  }
 ],
 "metadata": {
  "kernelspec": {
   "display_name": "base",
   "language": "python",
   "name": "python3"
  },
  "language_info": {
   "codemirror_mode": {
    "name": "ipython",
    "version": 3
   },
   "file_extension": ".py",
   "mimetype": "text/x-python",
   "name": "python",
   "nbconvert_exporter": "python",
   "pygments_lexer": "ipython3",
   "version": "3.9.13"
  }
 },
 "nbformat": 4,
 "nbformat_minor": 2
}
